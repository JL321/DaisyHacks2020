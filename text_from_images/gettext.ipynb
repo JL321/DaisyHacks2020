{
 "nbformat": 4,
 "nbformat_minor": 2,
 "metadata": {
  "language_info": {
   "name": "python",
   "codemirror_mode": {
    "name": "ipython",
    "version": 3
   },
   "version": "3.7.5-final"
  },
  "orig_nbformat": 2,
  "file_extension": ".py",
  "mimetype": "text/x-python",
  "name": "python",
  "npconvert_exporter": "python",
  "pygments_lexer": "ipython3",
  "version": 3,
  "kernelspec": {
   "name": "python37564bit676ca55862a84fa98ade9e24dae516de",
   "display_name": "Python 3.7.5 64-bit"
  }
 },
 "cells": [
  {
   "cell_type": "code",
   "execution_count": 1,
   "metadata": {},
   "outputs": [],
   "source": [
    "import pandas as pd \n",
    "import os\n",
    "import utilities as ut\n",
    "import keywords\n",
    "os.environ[\"GOOGLE_APPLICATION_CREDENTIALS\"]=\"C:/Users/runze/OneDrive/Desktop/textdetector-f1de5e1e531e.json\""
   ]
  },
  {
   "cell_type": "code",
   "execution_count": 7,
   "metadata": {},
   "outputs": [],
   "source": [
    "headers = [\"flyer_name\", \"product_name\", \"unit_promo_price\", \"uom\", \"least_unit_for_promo\", \"save_per_unit\", \"discount\", \"organic\"]\n",
    "output_df = pd.DataFrame(columns=headers)"
   ]
  },
  {
   "cell_type": "code",
   "execution_count": 3,
   "metadata": {},
   "outputs": [
    {
     "name": "stdout",
     "output_type": "stream",
     "text": "[('week_1_page_1', 'images\\\\week_1_page_1\\\\week_1_page_1_prod_1.jpg'), ('week_1_page_1', 'images\\\\week_1_page_1\\\\week_1_page_1_prod_2.jpg'), ('week_1_page_1', 'images\\\\week_1_page_1\\\\week_1_page_1_prod_3.jpg')]\n"
    }
   ],
   "source": [
    "images2process = []\n",
    "for subdir, dirs, files in os.walk(\"images\"):\n",
    "    for filey in files:"
   ]
  },
  {
   "cell_type": "code",
   "execution_count": 4,
   "metadata": {},
   "outputs": [],
   "source": [
    "text_df = pd.DataFrame(columns=[\"text\"])\n",
    "i = 0\n",
    "for flyer_name, image_path in images2process:\n",
    "    text = ut.fetch_text(image_path)\n",
    "    text_df.loc[i] = [text]\n",
    "    i += 1\n",
    "text_df.to_csv(\"text.csv\")"
   ]
  },
  {
   "cell_type": "code",
   "execution_count": 5,
   "metadata": {},
   "outputs": [],
   "source": [
    "#text_df = pd.read_csv(\"text.csv\")"
   ]
  },
  {
   "cell_type": "code",
   "execution_count": 8,
   "metadata": {},
   "outputs": [],
   "source": [
    "for index, values in enumerate(images2process):\n",
    "    flyer_name, image_path = values\n",
    "    product_name = \"\"\n",
    "    unit_promo_price = \"\"\n",
    "    uom = \"\"\n",
    "    least_unit_for_promo = \"1\"\n",
    "    save_per_unit = \"\"\n",
    "    discount = \"\"\n",
    "    organic = \"0\"\n",
    "\n",
    "    text = text_df[\"text\"][index]\n",
    "\n",
    "    product_name, organic = ut.find_prodname_and_org(text,keywords.prod2cased)\n",
    "\n",
    "    output_df.loc[index] = [flyer_name, product_name, unit_promo_price, uom, least_unit_for_promo, save_per_unit, discount, organic]\n",
    "\n",
    "output_df.to_csv(\"output.csv\", index=False)"
   ]
  }
 ]
}