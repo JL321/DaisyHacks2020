{
 "nbformat": 4,
 "nbformat_minor": 2,
 "metadata": {
  "language_info": {
   "name": "python",
   "codemirror_mode": {
    "name": "ipython",
    "version": 3
   },
   "version": "3.7.5-final"
  },
  "orig_nbformat": 2,
  "file_extension": ".py",
  "mimetype": "text/x-python",
  "name": "python",
  "npconvert_exporter": "python",
  "pygments_lexer": "ipython3",
  "version": 3,
  "kernelspec": {
   "name": "python37564bit676ca55862a84fa98ade9e24dae516de",
   "display_name": "Python 3.7.5 64-bit"
  }
 },
 "cells": [
  {
   "cell_type": "code",
   "execution_count": 1,
   "metadata": {},
   "outputs": [],
   "source": [
    "import pandas as pd \n",
    "import os\n",
    "import utilities as ut\n",
    "import keywords\n",
    "import ParseText\n",
    "import keywords\n",
    "os.environ[\"GOOGLE_APPLICATION_CREDENTIALS\"]=\"C:/Users/runze/OneDrive/Desktop/textdetector-f1de5e1e531e.json\""
   ]
  },
  {
   "cell_type": "code",
   "execution_count": 2,
   "metadata": {},
   "outputs": [],
   "source": [
    "headers = [\"flyer_name\", \"product_name\", \"unit_promo_price\", \"uom\", \"least_unit_for_promo\", \"save_per_unit\", \"discount\", \"organic\"]\n",
    "output_df = pd.DataFrame(columns=headers)"
   ]
  },
  {
   "cell_type": "code",
   "execution_count": 3,
   "metadata": {},
   "outputs": [],
   "source": [
    "text_df = pd.read_csv(\"text.csv\", index_col=0)"
   ]
  },
  {
   "cell_type": "code",
   "execution_count": 6,
   "metadata": {},
   "outputs": [
    {
     "name": "stderr",
     "output_type": "stream",
     "text": "ARNING:root:Applied processor reduces input query to empty string, all comparisons will have score 0. [Query: '']\nWARNING:root:Applied processor reduces input query to empty string, all comparisons will have score 0. [Query: '']\nWARNING:root:Applied processor reduces input query to empty string, all comparisons will have score 0. [Query: '']\nyeet\nyeet\nyeet\nyeet\nyeet\nyeet\nyeet\nyeet\nyeet\nyeet\nyeet\nyeet\nWARNING:root:Applied processor reduces input query to empty string, all comparisons will have score 0. [Query: '']\nWARNING:root:Applied processor reduces input query to empty string, all comparisons will have score 0. [Query: '']\nWARNING:root:Applied processor reduces input query to empty string, all comparisons will have score 0. [Query: '']\nWARNING:root:Applied processor reduces input query to empty string, all comparisons will have score 0. [Query: '']\nWARNING:root:Applied processor reduces input query to empty string, all comparisons will have score 0. [Query: '']\nyeet\nyeet\nyeet\nyeet\nyeet\nWARNING:root:Applied processor reduces input query to empty string, all comparisons will have score 0. [Query: '']\nyeet\nWARNING:root:Applied processor reduces input query to empty string, all comparisons will have score 0. [Query: '']\nyeet\nWARNING:root:Applied processor reduces input query to empty string, all comparisons will have score 0. [Query: '']\nWARNING:root:Applied processor reduces input query to empty string, all comparisons will have score 0. [Query: '']\nWARNING:root:Applied processor reduces input query to empty string, all comparisons will have score 0. [Query: '']\nyeet\nyeet\nyeet\nWARNING:root:Applied processor reduces input query to empty string, all comparisons will have score 0. [Query: '']\nyeet\nWARNING:root:Applied processor reduces input query to empty string, all comparisons will have score 0. [Query: '']\nWARNING:root:Applied processor reduces input query to empty string, all comparisons will have score 0. [Query: '']\nyeet\nyeet\nWARNING:root:Applied processor reduces input query to empty string, all comparisons will have score 0. [Query: '']\nWARNING:root:Applied processor reduces input query to empty string, all comparisons will have score 0. [Query: '']\nyeet\nWARNING:root:Applied processor reduces input query to empty string, all comparisons will have score 0. [Query: '']\nWARNING:root:Applied processor reduces input query to empty string, all comparisons will have score 0. [Query: '']\nWARNING:root:Applied processor reduces input query to empty string, all comparisons will have score 0. [Query: '']\nWARNING:root:Applied processor reduces input query to empty string, all comparisons will have score 0. [Query: '']\nWARNING:root:Applied processor reduces input query to empty string, all comparisons will have score 0. [Query: '']\nyeet\nyeet\nyeet\nyeet\nyeet\nWARNING:root:Applied processor reduces input query to empty string, all comparisons will have score 0. [Query: '']\nWARNING:root:Applied processor reduces input query to empty string, all comparisons will have score 0. [Query: '']\nyeet\nyeet\nyeet\nWARNING:root:Applied processor reduces input query to empty string, all comparisons will have score 0. [Query: '']\nyeet\nyeet\nWARNING:root:Applied processor reduces input query to empty string, all comparisons will have score 0. [Query: '']\nWARNING:root:Applied processor reduces input query to empty string, all comparisons will have score 0. [Query: '']\nWARNING:root:Applied processor reduces input query to empty string, all comparisons will have score 0. [Query: '']\nWARNING:root:Applied processor reduces input query to empty string, all comparisons will have score 0. [Query: '']\nyeet\nyeet\nyeet\nWARNING:root:Applied processor reduces input query to empty string, all comparisons will have score 0. [Query: '']\nyeet\nyeet\nyeet\nyeet\nyeet\nWARNING:root:Applied processor reduces input query to empty string, all comparisons will have score 0. [Query: '']\nyeet\nWARNING:root:Applied processor reduces input query to empty string, all comparisons will have score 0. [Query: '']\nWARNING:root:Applied processor reduces input query to empty string, all comparisons will have score 0. [Query: '']\nyeet\nyeet\nWARNING:root:Applied processor reduces input query to empty string, all comparisons will have score 0. [Query: '']\nWARNING:root:Applied processor reduces input query to empty string, all comparisons will have score 0. [Query: '']\nyeet\nyeet\nWARNING:root:Applied processor reduces input query to empty string, all comparisons will have score 0. [Query: '']\nyeet\nWARNING:root:Applied processor reduces input query to empty string, all comparisons will have score 0. [Query: '']\nWARNING:root:Applied processor reduces input query to empty string, all comparisons will have score 0. [Query: '']\nWARNING:root:Applied processor reduces input query to empty string, all comparisons will have score 0. [Query: '']\nyeet\nyeet\nyeet\nWARNING:root:Applied processor reduces input query to empty string, all comparisons will have score 0. [Query: '']\nyeet\nWARNING:root:Applied processor reduces input query to empty string, all comparisons will have score 0. [Query: '']\nWARNING:root:Applied processor reduces input query to empty string, all comparisons will have score 0. [Query: '']\nWARNING:root:Applied processor reduces input query to empty string, all comparisons will have score 0. [Query: '']\nWARNING:root:Applied processor reduces input query to empty string, all comparisons will have score 0. [Query: '']\nWARNING:root:Applied processor reduces input query to empty string, all comparisons will have score 0. [Query: '']\nWARNING:root:Applied processor reduces input query to empty string, all comparisons will have score 0. [Query: '']\nWARNING:root:Applied processor reduces input query to empty string, all comparisons will have score 0. [Query: '']\nyeet\nyeet\nyeet\nyeet\nyeet\nyeet\nyeet\nyeet\nWARNING:root:Applied processor reduces input query to empty string, all comparisons will have score 0. [Query: '']\nWARNING:root:Applied processor reduces input query to empty string, all comparisons will have score 0. [Query: '']\nWARNING:root:Applied processor reduces input query to empty string, all comparisons will have score 0. [Query: '']\nWARNING:root:Applied processor reduces input query to empty string, all comparisons will have score 0. [Query: '']\nyeet\nyeet\nyeet\nyeet\nWARNING:root:Applied processor reduces input query to empty string, all comparisons will have score 0. [Query: '']\nWARNING:root:Applied processor reduces input query to empty string, all comparisons will have score 0. [Query: '']\nyeet\nyeet\nWARNING:root:Applied processor reduces input query to empty string, all comparisons will have score 0. [Query: '']\nWARNING:root:Applied processor reduces input query to empty string, all comparisons will have score 0. [Query: '']\nWARNING:root:Applied processor reduces input query to empty string, all comparisons will have score 0. [Query: '']\nyeet\nyeet\nyeet\nWARNING:root:Applied processor reduces input query to empty string, all comparisons will have score 0. [Query: '']\nWARNING:root:Applied processor reduces input query to empty string, all comparisons will have score 0. [Query: '']\nWARNING:root:Applied processor reduces input query to empty string, all comparisons will have score 0. [Query: '']\n75.1599/.5/.\nyeet\nyeet\nyeet\nWARNING:root:Applied processor reduces input query to empty string, all comparisons will have score 0. [Query: '']\nWARNING:root:Applied processor reduces input query to empty string, all comparisons will have score 0. [Query: '']\nyeet\nyeet\n.999/..9-.15\nWARNING:root:Applied processor reduces input query to empty string, all comparisons will have score 0. [Query: '']\nyeet\nyeet\nWARNING:root:Applied processor reduces input query to empty string, all comparisons will have score 0. [Query: '']\nyeet\nWARNING:root:Applied processor reduces input query to empty string, all comparisons will have score 0. [Query: '']\nyeet\nyeet\nWARNING:root:Applied processor reduces input query to empty string, all comparisons will have score 0. [Query: '']\n10.9625511.382\nyeet\nWARNING:root:Applied processor reduces input query to empty string, all comparisons will have score 0. [Query: '']\nWARNING:root:Applied processor reduces input query to empty string, all comparisons will have score 0. [Query: '']\nWARNING:root:Applied processor reduces input query to empty string, all comparisons will have score 0. [Query: '']\nWARNING:root:Applied processor reduces input query to empty string, all comparisons will have score 0. [Query: '']\nyeet\nyeet\nyeet\nyeet\nWARNING:root:Applied processor reduces input query to empty string, all comparisons will have score 0. [Query: '']\nyeet\nWARNING:root:Applied processor reduces input query to empty string, all comparisons will have score 0. [Query: '']\nWARNING:root:Applied processor reduces input query to empty string, all comparisons will have score 0. [Query: '']\nWARNING:root:Applied processor reduces input query to empty string, all comparisons will have score 0. [Query: '']\nyeet\nyeet\nyeet\nWARNING:root:Applied processor reduces input query to empty string, all comparisons will have score 0. [Query: '']\nWARNING:root:Applied processor reduces input query to empty string, all comparisons will have score 0. [Query: '']\nWARNING:root:Applied processor reduces input query to empty string, all comparisons will have score 0. [Query: '']\nWARNING:root:Applied processor reduces input query to empty string, all comparisons will have score 0. [Query: '']\nyeet\nyeet\nyeet\nyeet\nyeet\nWARNING:root:Applied processor reduces input query to empty string, all comparisons will have score 0. [Query: '']\nWARNING:root:Applied processor reduces input query to empty string, all comparisons will have score 0. [Query: '']\nWARNING:root:Applied processor reduces input query to empty string, all comparisons will have score 0. [Query: '']\nyeet\nyeet\nyeet\nWARNING:root:Applied processor reduces input query to empty string, all comparisons will have score 0. [Query: '']\nWARNING:root:Applied processor reduces input query to empty string, all comparisons will have score 0. [Query: '']\nyeet\nyeet\nWARNING:root:Applied processor reduces input query to empty string, all comparisons will have score 0. [Query: '']\nWARNING:root:Applied processor reduces input query to empty string, all comparisons will have score 0. [Query: '']\n16.99,1;15.99,2&\n8.99,2,.699999\nyeet\nyeet\nWARNING:root:Applied processor reduces input query to empty string, all comparisons will have score 0. [Query: '']\nWARNING:root:Applied processor reduces input query to empty string, all comparisons will have score 0. [Query: '']\nyeet\nyeet\nWARNING:root:Applied processor reduces input query to empty string, all comparisons will have score 0. [Query: '']\nWARNING:root:Applied processor reduces input query to empty string, all comparisons will have score 0. [Query: '']\nWARNING:root:Applied processor reduces input query to empty string, all comparisons will have score 0. [Query: '']\nyeet\nyeet\nyeet\nWARNING:root:Applied processor reduces input query to empty string, all comparisons will have score 0. [Query: '']\nyeet\nWARNING:root:Applied processor reduces input query to empty string, all comparisons will have score 0. [Query: '']\nWARNING:root:Applied processor reduces input query to empty string, all comparisons will have score 0. [Query: '']\nWARNING:root:Applied processor reduces input query to empty string, all comparisons will have score 0. [Query: '']\nyeet\nyeet\nyeet\nyeet\nWARNING:root:Applied processor reduces input query to empty string, all comparisons will have score 0. [Query: '']\nWARNING:root:Applied processor reduces input query to empty string, all comparisons will have score 0. [Query: '']\nWARNING:root:Applied processor reduces input query to empty string, all comparisons will have score 0. [Query: '']\nWARNING:root:Applied processor reduces input query to empty string, all comparisons will have score 0. [Query: '']\nyeet\nyeet\nyeet\nyeet\nWARNING:root:Applied processor reduces input query to empty string, all comparisons will have score 0. [Query: '']\nWARNING:root:Applied processor reduces input query to empty string, all comparisons will have score 0. [Query: '']\nWARNING:root:Applied processor reduces input query to empty string, all comparisons will have score 0. [Query: '']\nyeet\nyeet\nyeet\nWARNING:root:Applied processor reduces input query to empty string, all comparisons will have score 0. [Query: '']\nyeet\nWARNING:root:Applied processor reduces input query to empty string, all comparisons will have score 0. [Query: '']\nWARNING:root:Applied processor reduces input query to empty string, all comparisons will have score 0. [Query: '']\nyeet\nyeet\nyeet\nWARNING:root:Applied processor reduces input query to empty string, all comparisons will have score 0. [Query: '']\nWARNING:root:Applied processor reduces input query to empty string, all comparisons will have score 0. [Query: '']\nyeet\nyeet\nWARNING:root:Applied processor reduces input query to empty string, all comparisons will have score 0. [Query: '']\nWARNING:root:Applied processor reduces input query to empty string, all comparisons will have score 0. [Query: '']\nyeet\nyeet\nWARNING:root:Applied processor reduces input query to empty string, all comparisons will have score 0. [Query: '']\nWARNING:root:Applied processor reduces input query to empty string, all comparisons will have score 0. [Query: '']\nyeet\nyeet\nyeet\nWARNING:root:Applied processor reduces input query to empty string, all comparisons will have score 0. [Query: '']\nWARNING:root:Applied processor reduces input query to empty string, all comparisons will have score 0. [Query: '']\nWARNING:root:Applied processor reduces input query to empty string, all comparisons will have score 0. [Query: '']\nyeet\nyeet\nyeet\nWARNING:root:Applied processor reduces input query to empty string, all comparisons will have score 0. [Query: '']\nyeet\nWARNING:root:Applied processor reduces input query to empty string, all comparisons will have score 0. [Query: '']\nWARNING:root:Applied processor reduces input query to empty string, all comparisons will have score 0. [Query: '']\nWARNING:root:Applied processor reduces input query to empty string, all comparisons will have score 0. [Query: '']\nyeet\nyeet\nyeet\nWARNING:root:Applied processor reduces input query to empty string, all comparisons will have score 0. [Query: '']\nWARNING:root:Applied processor reduces input query to empty string, all comparisons will have score 0. [Query: '']\nyeet\nyeet\nWARNING:root:Applied processor reduces input query to empty string, all comparisons will have score 0. [Query: '']\nWARNING:root:Applied processor reduces input query to empty string, all comparisons will have score 0. [Query: '']\n-.(10293.2/61.982\nyeet\nyeet\nWARNING:root:Applied processor reduces input query to empty string, all comparisons will have score 0. [Query: '']\nyeet\nWARNING:root:Applied processor reduces input query to empty string, all comparisons will have score 0. [Query: '']\nWARNING:root:Applied processor reduces input query to empty string, all comparisons will have score 0. [Query: '']\nWARNING:root:Applied processor reduces input query to empty string, all comparisons will have score 0. [Query: '']\nyeet\nyeet\nWARNING:root:Applied processor reduces input query to empty string, all comparisons will have score 0. [Query: '']\nyeet\nyeet\nWARNING:root:Applied processor reduces input query to empty string, all comparisons will have score 0. [Query: '']\nWARNING:root:Applied processor reduces input query to empty string, all comparisons will have score 0. [Query: '']\nyeet\nyeet\nWARNING:root:Applied processor reduces input query to empty string, all comparisons will have score 0. [Query: '']\nWARNING:root:Applied processor reduces input query to empty string, all comparisons will have score 0. [Query: '']\nyeet\nyeet\nWARNING:root:Applied processor reduces input query to empty string, all comparisons will have score 0. [Query: '']\nyeet\nyeet\nWARNING:root:Applied processor reduces input query to empty string, all comparisons will have score 0. [Query: '']\nWARNING:root:Applied processor reduces input query to empty string, all comparisons will have score 0. [Query: '']\nyeet\nyeet\nWARNING:root:Applied processor reduces input query to empty string, all comparisons will have score 0. [Query: '']\nWARNING:root:Applied processor reduces input query to empty string, all comparisons will have score 0. [Query: '']\nWARNING:root:Applied processor reduces input query to empty string, all comparisons will have score 0. [Query: '']\nWARNING:root:Applied processor reduces input query to empty string, all comparisons will have score 0. [Query: '']\nyeet\nyeet\nyeet\nyeet\nWARNING:root:Applied processor reduces input query to empty string, all comparisons will have score 0. [Query: '']\nWARNING:root:Applied processor reduces input query to empty string, all comparisons will have score 0. [Query: '']\nyeet\nyeet\nWARNING:root:Applied processor reduces input query to empty string, all comparisons will have score 0. [Query: '']\nWARNING:root:Applied processor reduces input query to empty string, all comparisons will have score 0. [Query: '']\nWARNING:root:Applied processor reduces input query to empty string, all comparisons will have score 0. [Query: '']\nWARNING:root:Applied processor reduces input query to empty string, all comparisons will have score 0. [Query: '']\nyeet\nyeet\nyeet\nyeet\nyeet\nWARNING:root:Applied processor reduces input query to empty string, all comparisons will have score 0. [Query: '']\nWARNING:root:Applied processor reduces input query to empty string, all comparisons will have score 0. [Query: '']\nyeet\nyeet\nWARNING:root:Applied processor reduces input query to empty string, all comparisons will have score 0. [Query: '']\nWARNING:root:Applied processor reduces input query to empty string, all comparisons will have score 0. [Query: '']\nWARNING:root:Applied processor reduces input query to empty string, all comparisons will have score 0. [Query: '']\nyeet\nyeet\nyeet\nWARNING:root:Applied processor reduces input query to empty string, all comparisons will have score 0. [Query: '']\nyeet\nWARNING:root:Applied processor reduces input query to empty string, all comparisons will have score 0. [Query: '']\nWARNING:root:Applied processor reduces input query to empty string, all comparisons will have score 0. [Query: '']\nWARNING:root:Applied processor reduces input query to empty string, all comparisons will have score 0. [Query: '']\nWARNING:root:Applied processor reduces input query to empty string, all comparisons will have score 0. [Query: '']\nyeet\nyeet\nyeet\nyeet\nWARNING:root:Applied processor reduces input query to empty string, all comparisons will have score 0. [Query: '']\nWARNING:root:Applied processor reduces input query to empty string, all comparisons will have score 0. [Query: '']\nWARNING:root:Applied processor reduces input query to empty string, all comparisons will have score 0. [Query: '']\nWARNING:root:Applied processor reduces input query to empty string, all comparisons will have score 0. [Query: '']\nyeet\nyeet\nyeet\nyeet\nWARNING:root:Applied processor reduces input query to empty string, all comparisons will have score 0. [Query: '']\nWARNING:root:Applied processor reduces input query to empty string, all comparisons will have score 0. [Query: '']\nyeet\nyeet\nWARNING:root:Applied processor reduces input query to empty string, all comparisons will have score 0. [Query: '']\nWARNING:root:Applied processor reduces input query to empty string, all comparisons will have score 0. [Query: '']\nWARNING:root:Applied processor reduces input query to empty string, all comparisons will have score 0. [Query: '']\nWARNING:root:Applied processor reduces input query to empty string, all comparisons will have score 0. [Query: '']\nyeet\nyeet\nyeet\nyeet\nWARNING:root:Applied processor reduces input query to empty string, all comparisons will have score 0. [Query: '']\nWARNING:root:Applied processor reduces input query to empty string, all comparisons will have score 0. [Query: '']\nyeet\nyeet\n"
    }
   ],
   "source": [
    "for index, flyer_name, text in text_df.itertuples():\n",
    "    product_name = \"\"\n",
    "    unit_promo_price = \"\"\n",
    "    uom = \"\"\n",
    "    least_unit_for_promo = \"1\"\n",
    "    save_per_unit = \"\"\n",
    "    discount = \"\"\n",
    "    organic = \"0\"\n",
    "\n",
    "    #text = text_df[\"text\"][index]\n",
    "    if not text:\n",
    "        continue\n",
    "    product_name, organic = ut.find_prodname_and_org(text, keywords.prod2cased)\n",
    "    if not product_name:\n",
    "        print(\"yeet\")\n",
    "        continue\n",
    "\n",
    "    unit_promo_price, save_per_unit, uom, least_unit_for_promo, discount = ParseText.offers(text)\n",
    "\n",
    "    try:\n",
    "        unit_promo_price = float(unit_promo_price)\n",
    "\n",
    "        if \".\" in unit_promo_price:\n",
    "            if unit_promo_price > 50:\n",
    "                unit_promo_price = \"\"\n",
    "            else:\n",
    "                unit_promo_price = round(unit_promo_price, 2)\n",
    "        else:\n",
    "            if unit_promo_price >= 100:\n",
    "                unit_promo_price = round(unit_promo_price/100, 2)\n",
    "    except:\n",
    "        pass\n",
    "\n",
    "    \n",
    "    output_df.loc[index] = [flyer_name, product_name, unit_promo_price, uom, least_unit_for_promo, save_per_unit, discount, organic]\n",
    "\n",
    "output_df.to_csv(\"output.csv\", index=False)"
   ]
  },
  {
   "cell_type": "code",
   "execution_count": 8,
   "metadata": {},
   "outputs": [
    {
     "ename": "TypeError",
     "evalue": "argument of type 'float' is not iterable",
     "output_type": "error",
     "traceback": [
      "\u001b[1;31m---------------------------------------------------------------------------\u001b[0m",
      "\u001b[1;31mTypeError\u001b[0m                                 Traceback (most recent call last)",
      "\u001b[1;32m<ipython-input-8-379e06039e69>\u001b[0m in \u001b[0;36m<module>\u001b[1;34m\u001b[0m\n\u001b[0;32m      4\u001b[0m     \u001b[0mprice\u001b[0m \u001b[1;33m=\u001b[0m \u001b[0mdata\u001b[0m\u001b[1;33m[\u001b[0m\u001b[1;36m3\u001b[0m\u001b[1;33m]\u001b[0m\u001b[1;33m\u001b[0m\u001b[1;33m\u001b[0m\u001b[0m\n\u001b[0;32m      5\u001b[0m     \u001b[0mprice\u001b[0m \u001b[1;33m=\u001b[0m \u001b[0mfloat\u001b[0m\u001b[1;33m(\u001b[0m\u001b[0mprice\u001b[0m\u001b[1;33m)\u001b[0m\u001b[1;33m\u001b[0m\u001b[1;33m\u001b[0m\u001b[0m\n\u001b[1;32m----> 6\u001b[1;33m     \u001b[1;32mif\u001b[0m \u001b[1;34m\".\"\u001b[0m \u001b[1;32min\u001b[0m \u001b[0mprice\u001b[0m\u001b[1;33m:\u001b[0m\u001b[1;33m\u001b[0m\u001b[1;33m\u001b[0m\u001b[0m\n\u001b[0m\u001b[0;32m      7\u001b[0m         \u001b[1;32mif\u001b[0m \u001b[0mprice\u001b[0m \u001b[1;33m>\u001b[0m \u001b[1;36m50\u001b[0m\u001b[1;33m:\u001b[0m\u001b[1;33m\u001b[0m\u001b[1;33m\u001b[0m\u001b[0m\n\u001b[0;32m      8\u001b[0m             \u001b[0mprice\u001b[0m \u001b[1;33m=\u001b[0m \u001b[1;34m\"\"\u001b[0m\u001b[1;33m\u001b[0m\u001b[1;33m\u001b[0m\u001b[0m\n",
      "\u001b[1;31mTypeError\u001b[0m: argument of type 'float' is not iterable"
     ]
    }
   ],
   "source": [
    "output_df = pd.read_csv(\"output.csv\")\n",
    "i = 0\n",
    "for data in output_df.itertuples():\n",
    "    price = data[3]\n",
    "    price = float(price)\n",
    "    if \".\" in price:\n",
    "        if price > 50:\n",
    "            price = \"\"\n",
    "        else:\n",
    "            price = round(price, 2)\n",
    "    else:\n",
    "        if price >= 100:\n",
    "            price = round(price/100, 2)\n",
    "    output_df[\"unit_promo_price\"][i] = price\n",
    "    i += 1\n",
    "\n",
    "print(output_df.head)"
   ]
  },
  {
   "cell_type": "code",
   "execution_count": null,
   "metadata": {},
   "outputs": [],
   "source": []
  }
 ]
}