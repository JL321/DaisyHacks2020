{
 "nbformat": 4,
 "nbformat_minor": 2,
 "metadata": {
  "language_info": {
   "name": "python",
   "codemirror_mode": {
    "name": "ipython",
    "version": 3
   },
   "version": "3.7.5-final"
  },
  "orig_nbformat": 2,
  "file_extension": ".py",
  "mimetype": "text/x-python",
  "name": "python",
  "npconvert_exporter": "python",
  "pygments_lexer": "ipython3",
  "version": 3,
  "kernelspec": {
   "name": "python37564bit676ca55862a84fa98ade9e24dae516de",
   "display_name": "Python 3.7.5 64-bit"
  }
 },
 "cells": [
  {
   "cell_type": "code",
   "execution_count": 21,
   "metadata": {},
   "outputs": [],
   "source": [
    "import pandas as pd \n",
    "import os\n",
    "import utilities as ut\n",
    "import keywords\n",
    "os.environ[\"GOOGLE_APPLICATION_CREDENTIALS\"]=\"C:/Users/runze/OneDrive/Desktop/textdetector-f1de5e1e531e.json\""
   ]
  },
  {
   "cell_type": "code",
   "execution_count": 2,
   "metadata": {},
   "outputs": [],
   "source": [
    "headers = [\"flyer_name\", \"product_name\", \"unit_promo_price\", \"uom\", \"least_unit_for_promo\", \"save_per_unit\", \"discount\", \"organic\"]\n",
    "data = pd.DataFrame(columns=headers)"
   ]
  },
  {
   "cell_type": "code",
   "execution_count": 3,
   "metadata": {},
   "outputs": [
    {
     "name": "stdout",
     "output_type": "stream",
     "text": "[('week_1_page_1', 'images\\\\week_1_page_1\\\\week_1_page_1_prod_1.jpg'), ('week_1_page_1', 'images\\\\week_1_page_1\\\\week_1_page_1_prod_2.jpg'), ('week_1_page_1', 'images\\\\week_1_page_1\\\\week_1_page_1_prod_3.jpg')]\n"
    }
   ],
   "source": [
    "images2process = []\n",
    "for subdir, dirs, files in os.walk(\"images\"):\n",
    "    for filey in files:\n",
    "        images2process.append((subdir.split(\"\\\\\")[1], os.path.join(subdir, filey)))\n",
    "print(images2process)"
   ]
  },
  {
   "cell_type": "code",
   "execution_count": 10,
   "metadata": {},
   "outputs": [],
   "source": [
    "text_df = pd.DataFrame(columns=[\"text\"])\n",
    "i = 0\n",
    "for flyer_name, image_path in images2process:\n",
    "    text = ut.fetch_text(image_path)\n",
    "    text_df.loc[i] = [text]\n",
    "    text_df.to_csv(\"text.csv\")\n",
    "    i += 1"
   ]
  },
  {
   "cell_type": "code",
   "execution_count": 11,
   "metadata": {},
   "outputs": [],
   "source": [
    "text_df = pd.read_csv(\"text.csv\")"
   ]
  },
  {
   "cell_type": "code",
   "execution_count": 19,
   "metadata": {},
   "outputs": [
    {
     "name": "stdout",
     "output_type": "stream",
     "text": "healthy with 2 wild non-gmo fresh sockeye salmon fillets and all salmon of of the\n('week_1_page_1', (2, 'Sockeye Salmon Fillets'), '', '', '1', '', '', 0)\nhealthy with fresh half fresh whole chicken or party certified raised\n('week_1_page_1', (3, 'Whole Chicken'), '', '', '1', '', '', 0)\nhealthy with one one one free free on 2 organic organic strawberries 1 lb. or and and organic berries make easy healthy your low\n('week_1_page_1', (1215, 'Organic strawberries'), '', '', '1', '', '', 1)\n"
    }
   ],
   "source": [
    "for index, values in enumerate(images2process):\n",
    "    flyer_name, image_path = values\n",
    "    product_name = \"\"\n",
    "    unit_promo_price = \"\"\n",
    "    uom = \"\"\n",
    "    least_unit_for_promo = \"1\"\n",
    "    save_per_unit = \"\"\n",
    "    discount = \"\"\n",
    "    organic = \"0\"\n",
    "\n",
    "    text = text_df[\"text\"][index]\n",
    "\n",
    "    product_name, organic = ut.find_prodname_and_org(text,keywords.prod2cased)\n",
    "\n",
    "    print((flyer_name, product_name, unit_promo_price, uom, least_unit_for_promo, save_per_unit, discount, organic))"
   ]
  },
  {
   "cell_type": "code",
   "execution_count": null,
   "metadata": {},
   "outputs": [],
   "source": []
  }
 ]
}