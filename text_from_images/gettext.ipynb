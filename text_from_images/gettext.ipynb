{
 "nbformat": 4,
 "nbformat_minor": 2,
 "metadata": {
  "language_info": {
   "name": "python",
   "codemirror_mode": {
    "name": "ipython",
    "version": 3
   },
   "version": "3.7.5-final"
  },
  "orig_nbformat": 2,
  "file_extension": ".py",
  "mimetype": "text/x-python",
  "name": "python",
  "npconvert_exporter": "python",
  "pygments_lexer": "ipython3",
  "version": 3,
  "kernelspec": {
   "name": "python37564bit676ca55862a84fa98ade9e24dae516de",
   "display_name": "Python 3.7.5 64-bit"
  }
 },
 "cells": [
  {
   "cell_type": "code",
   "execution_count": 1,
   "metadata": {},
   "outputs": [],
   "source": [
    "import pandas as pd \n",
    "import os\n",
    "import utilities as ut\n",
    "import keywords\n",
    "os.environ[\"GOOGLE_APPLICATION_CREDENTIALS\"]=\"C:/Users/runze/OneDrive/Desktop/textdetector-f1de5e1e531e.json\""
   ]
  },
  {
   "cell_type": "code",
   "execution_count": 2,
   "metadata": {},
   "outputs": [],
   "source": [
    "headers = [\"flyer_name\", \"product_name\", \"unit_promo_price\", \"uom\", \"least_unit_for_promo\", \"save_per_unit\", \"discount\", \"organic\"]\n",
    "output_df = pd.DataFrame(columns=headers)"
   ]
  },
  {
   "cell_type": "code",
   "execution_count": 3,
   "metadata": {},
   "outputs": [],
   "source": [
    "images2process = []\n",
    "for subdir, dirs, files in os.walk(\"images\"):\n",
    "    for filey in files:\n",
    "        images2process.append((subdir.split(\"\\\\\")[1], os.path.join(subdir, filey)))"
   ]
  },
  {
   "cell_type": "code",
   "execution_count": 4,
   "metadata": {},
   "outputs": [],
   "source": [
    "text_df = pd.DataFrame(columns=[\"text\"])\n",
    "i = 0\n",
    "for flyer_name, image_path in images2process:\n",
    "    text = ut.fetch_text(image_path)\n",
    "    text_df.loc[i] = [text]\n",
    "    i += 1\n",
    "text_df.to_csv(\"text.csv\")"
   ]
  },
  {
   "cell_type": "code",
   "execution_count": 5,
   "metadata": {},
   "outputs": [],
   "source": [
    "#text_df = pd.read_csv(\"text.csv\")"
   ]
  },
  {
   "cell_type": "code",
   "execution_count": 7,
   "metadata": {},
   "outputs": [
    {
     "name": "stdout",
     "output_type": "stream",
     "text": "[('sockeye salmon fillets', 90), ('sockeye salmon fillet', 90), ('sockeye salmon', 90), ('wild bourbon salmon fillets', 86), ('non-dairy ice cream', 86)]\n[('whole chicken', 90), ('ground sirloin or round', 86), ('whole ribeyes & strips', 86), ('blackened chicken salad', 86), ('pinot grigio, rose, or sparkling wine', 86)]\n[('organic strawberries', 90), ('ground sirloin or round', 86), ('organic red & green seedless grapes', 86), ('organic zesty carrot juice', 86), ('pinot grigio, rose, or sparkling wine', 86)]\n[('5-pack non-gmo corn', 60), ('5-pack large cookies', 60), ('5-pack cookie sandwiches', 60), ('5-pack cookies', 60), ('5 lb. bag organic russet potatoes', 60)]\nyeet\n"
    }
   ],
   "source": [
    "for index, values in enumerate(images2process):\n",
    "    flyer_name, image_path = values\n",
    "    product_name = \"\"\n",
    "    unit_promo_price = \"\"\n",
    "    uom = \"\"\n",
    "    least_unit_for_promo = \"1\"\n",
    "    save_per_unit = \"\"\n",
    "    discount = \"\"\n",
    "    organic = \"0\"\n",
    "\n",
    "    text = text_df[\"text\"][index]\n",
    "\n",
    "    product_name, organic = ut.find_prodname_and_org(text,keywords.prod2cased)\n",
    "    if not product_name:\n",
    "        print(\"yeet\")\n",
    "        continue\n",
    "\n",
    "    output_df.loc[index] = [flyer_name, product_name, unit_promo_price, uom, least_unit_for_promo, save_per_unit, discount, organic]\n",
    "\n",
    "output_df.to_csv(\"output.csv\", index=False)"
   ]
  },
  {
   "cell_type": "code",
   "execution_count": null,
   "metadata": {},
   "outputs": [],
   "source": []
  }
 ]
}