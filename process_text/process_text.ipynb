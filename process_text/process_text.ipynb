{
 "nbformat": 4,
 "nbformat_minor": 2,
 "metadata": {
  "language_info": {
   "name": "python",
   "codemirror_mode": {
    "name": "ipython",
    "version": 3
   },
   "version": "3.7.5-final"
  },
  "orig_nbformat": 2,
  "file_extension": ".py",
  "mimetype": "text/x-python",
  "name": "python",
  "npconvert_exporter": "python",
  "pygments_lexer": "ipython3",
  "version": 3,
  "kernelspec": {
   "name": "python37564bit676ca55862a84fa98ade9e24dae516de",
   "display_name": "Python 3.7.5 64-bit"
  }
 },
 "cells": [
  {
   "cell_type": "code",
   "execution_count": 1,
   "metadata": {},
   "outputs": [],
   "source": [
    "import pandas as pd \n",
    "import numpy as np\n",
    "import keywords\n",
    "from fuzzywuzzy import process\n",
    "%matplotlib inline \n"
   ]
  },
  {
   "cell_type": "code",
   "execution_count": 2,
   "metadata": {},
   "outputs": [],
   "source": [
    "path2csv = \"C:/Users/runze/OneDrive/Desktop/DaisyHacks2020/csv_labels/\"\n",
    "\n",
    "#importing product labels\n",
    "product_df = pd.read_csv(path2csv+\"product_dictionary.csv\")\n",
    "product_dict = product_df.T.to_dict(\"list\")\n",
    "#importing units\n",
    "unit_df = pd.read_csv(path2csv+\"units_dictionary.csv\")\n",
    "unit_dict = unit_df.T.to_dict(\"list\")\n"
   ]
  },
  {
   "cell_type": "code",
   "execution_count": 15,
   "metadata": {},
   "outputs": [
    {
     "data": {
      "text/html": "<div>\n<style scoped>\n    .dataframe tbody tr th:only-of-type {\n        vertical-align: middle;\n    }\n\n    .dataframe tbody tr th {\n        vertical-align: top;\n    }\n\n    .dataframe thead th {\n        text-align: right;\n    }\n</style>\n<table border=\"1\" class=\"dataframe\">\n  <thead>\n    <tr style=\"text-align: right;\">\n      <th></th>\n      <th>text</th>\n    </tr>\n  </thead>\n  <tbody>\n    <tr>\n      <th>0</th>\n      <td>HEALTHY REWARDS\\nOFFER WITH CARD\\n$1499/lb. 2\\...</td>\n    </tr>\n  </tbody>\n</table>\n</div>",
      "text/plain": "                                                text\n0  HEALTHY REWARDS\\nOFFER WITH CARD\\n$1499/lb. 2\\..."
     },
     "execution_count": 15,
     "metadata": {},
     "output_type": "execute_result"
    }
   ],
   "source": [
    "#read arbitrary data type\n",
    "#say it's an excel with text in it\n",
    "data = pd.read_excel(\"data.xlsx\")\n",
    "data.head()"
   ]
  },
  {
   "cell_type": "code",
   "execution_count": 13,
   "metadata": {},
   "outputs": [],
   "source": [
    "def find_prodname(string, prod2cased):\n",
    "    '''returns a tuple in the form of (key, cased_string)\n",
    "    '''\n",
    "    good_words = []\n",
    "    for each in string.lower().split():\n",
    "        if each in keywords.title_words:\n",
    "            good_words.append(each)\n",
    "    string = \" \".join(good_words)\n",
    "    print(string)\n",
    "    top_token = process.extract(string, list(prod2cased.keys()))\n",
    "    if top_token:\n",
    "        return prod2cased[top_token[0][0]]\n",
    "    else:\n",
    "        return \"\""
   ]
  },
  {
   "cell_type": "code",
   "execution_count": 17,
   "metadata": {},
   "outputs": [
    {
     "data": {
      "text/plain": "67804"
     },
     "execution_count": 17,
     "metadata": {},
     "output_type": "execute_result"
    }
   ],
   "source": [
    "# create non-cased to cased dictionary\n",
    "prod2cased = {value[0].lower() : (key, value[0]) for key, value in product_dict.items()}"
   ]
  },
  {
   "cell_type": "code",
   "execution_count": 14,
   "metadata": {},
   "outputs": [
    {
     "name": "stdout",
     "output_type": "stream",
     "text": "healthy with 2 wild non-gmo fresh sockeye salmon fillets and all salmon of of the\n(2, 'Sockeye Salmon Fillets')\n"
    }
   ],
   "source": [
    "print(find_prodname(data[\"text\"][0], prod2cased))"
   ]
  },
  {
   "cell_type": "code",
   "execution_count": 6,
   "metadata": {},
   "outputs": [],
   "source": [
    "def get_all_prodname(data, prod2cased):\n",
    "    for each in data[\"text\"]:\n",
    "        find_prodname(each, prod2cased)[1]"
   ]
  },
  {
   "cell_type": "code",
   "execution_count": null,
   "metadata": {},
   "outputs": [],
   "source": []
  }
 ]
}