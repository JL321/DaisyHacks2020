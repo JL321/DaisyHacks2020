{
 "nbformat": 4,
 "nbformat_minor": 2,
 "metadata": {
  "language_info": {
   "name": "python",
   "codemirror_mode": {
    "name": "ipython",
    "version": 3
   },
   "version": "3.7.5-final"
  },
  "orig_nbformat": 2,
  "file_extension": ".py",
  "mimetype": "text/x-python",
  "name": "python",
  "npconvert_exporter": "python",
  "pygments_lexer": "ipython3",
  "version": 3,
  "kernelspec": {
   "name": "python37564bit676ca55862a84fa98ade9e24dae516de",
   "display_name": "Python 3.7.5 64-bit"
  }
 },
 "cells": [
  {
   "cell_type": "code",
   "execution_count": 31,
   "metadata": {},
   "outputs": [],
   "source": [
    "import pandas as pd \n",
    "import numpy as np\n",
    "import keywords\n",
    "from fuzzywuzzy import process\n",
    "%matplotlib inline \n"
   ]
  },
  {
   "cell_type": "code",
   "execution_count": 25,
   "metadata": {},
   "outputs": [],
   "source": [
    "path2csv = \"C:/Users/runze/OneDrive/Desktop/DaisyHacks2020/csv_labels/\"\n",
    "\n",
    "#importing product labels\n",
    "product_df = pd.read_csv(path2csv+\"product_dictionary.csv\")\n",
    "product_dict = product_df.T.to_dict(\"list\")\n",
    "#importing units\n",
    "unit_df = pd.read_csv(path2csv+\"units_dictionary.csv\")\n",
    "unit_dict = unit_df.T.to_dict(\"list\")\n"
   ]
  },
  {
   "cell_type": "code",
   "execution_count": 26,
   "metadata": {},
   "outputs": [],
   "source": [
    "#read arbitrary data type\n",
    "#say it's an excel with text in it\n",
    "data = pd.read_excel(\"data.xlsx\")"
   ]
  },
  {
   "cell_type": "code",
   "execution_count": 35,
   "metadata": {},
   "outputs": [],
   "source": [
    "def find_prodname(string, prod2cased):\n",
    "    '''returns a tuple in the form of (key, cased_string)\n",
    "    '''\n",
    "    string = \" \".join(string.lower().split())\n",
    "    print(string)\n",
    "    top_token = process.extract(string, list(prod2cased.keys()))\n",
    "    print(top_token)\n",
    "    return prod2cased[top_token[0][0]]"
   ]
  },
  {
   "cell_type": "code",
   "execution_count": 28,
   "metadata": {},
   "outputs": [],
   "source": [
    "# create non-cased to cased dictionary\n",
    "prod2cased = {value[0].lower() : (key, value[0]) for key, value in product_dict.items()}"
   ]
  },
  {
   "cell_type": "code",
   "execution_count": 36,
   "metadata": {},
   "outputs": [
    {
     "name": "stdout",
     "output_type": "stream",
     "text": ". wf then save $10/ib. fresh, wild sockeye salmon fillets 100% traceable and sustainably sourced, all earth fare salmon is non-gmo, superior flavor, great source of omega-3 fatty acids, product of the usa (alaska) discount taken at register\n[('all organic juices & smoothies', 86), ('organic soy non-dairy beverage', 86), ('bourbon scottish salmon fillets', 86), ('8 oz. kale caesar salad from the deli', 86), ('curcumin complete: the joint solution', 86)]\n"
    },
    {
     "ename": "KeyError",
     "evalue": "('all organic juices & smoothies', 86)",
     "output_type": "error",
     "traceback": [
      "\u001b[1;31m---------------------------------------------------------------------------\u001b[0m",
      "\u001b[1;31mKeyError\u001b[0m                                  Traceback (most recent call last)",
      "\u001b[1;32m<ipython-input-36-a1c280cc4965>\u001b[0m in \u001b[0;36m<module>\u001b[1;34m\u001b[0m\n\u001b[1;32m----> 1\u001b[1;33m \u001b[0mprint\u001b[0m\u001b[1;33m(\u001b[0m\u001b[0mfind_prodname\u001b[0m\u001b[1;33m(\u001b[0m\u001b[0mdata\u001b[0m\u001b[1;33m[\u001b[0m\u001b[1;34m\"text\"\u001b[0m\u001b[1;33m]\u001b[0m\u001b[1;33m[\u001b[0m\u001b[1;36m0\u001b[0m\u001b[1;33m]\u001b[0m\u001b[1;33m,\u001b[0m \u001b[0mprod2cased\u001b[0m\u001b[1;33m)\u001b[0m\u001b[1;33m)\u001b[0m\u001b[1;33m\u001b[0m\u001b[1;33m\u001b[0m\u001b[0m\n\u001b[0m",
      "\u001b[1;32m<ipython-input-35-3389beaffb1c>\u001b[0m in \u001b[0;36mfind_prodname\u001b[1;34m(string, prod2cased)\u001b[0m\n\u001b[0;32m      6\u001b[0m     \u001b[0mtop_token\u001b[0m \u001b[1;33m=\u001b[0m \u001b[0mprocess\u001b[0m\u001b[1;33m.\u001b[0m\u001b[0mextract\u001b[0m\u001b[1;33m(\u001b[0m\u001b[0mstring\u001b[0m\u001b[1;33m,\u001b[0m \u001b[0mlist\u001b[0m\u001b[1;33m(\u001b[0m\u001b[0mprod2cased\u001b[0m\u001b[1;33m.\u001b[0m\u001b[0mkeys\u001b[0m\u001b[1;33m(\u001b[0m\u001b[1;33m)\u001b[0m\u001b[1;33m)\u001b[0m\u001b[1;33m)\u001b[0m\u001b[1;33m\u001b[0m\u001b[1;33m\u001b[0m\u001b[0m\n\u001b[0;32m      7\u001b[0m     \u001b[0mprint\u001b[0m\u001b[1;33m(\u001b[0m\u001b[0mtop_token\u001b[0m\u001b[1;33m)\u001b[0m\u001b[1;33m\u001b[0m\u001b[1;33m\u001b[0m\u001b[0m\n\u001b[1;32m----> 8\u001b[1;33m     \u001b[1;32mreturn\u001b[0m \u001b[0mprod2cased\u001b[0m\u001b[1;33m[\u001b[0m\u001b[0mtop_token\u001b[0m\u001b[1;33m[\u001b[0m\u001b[1;36m0\u001b[0m\u001b[1;33m]\u001b[0m\u001b[1;33m]\u001b[0m\u001b[1;33m\u001b[0m\u001b[1;33m\u001b[0m\u001b[0m\n\u001b[0m",
      "\u001b[1;31mKeyError\u001b[0m: ('all organic juices & smoothies', 86)"
     ]
    }
   ],
   "source": [
    "print(find_prodname(data[\"text\"][0], prod2cased))\n",
    "print(prod2cased[\"\"])"
   ]
  },
  {
   "cell_type": "code",
   "execution_count": null,
   "metadata": {},
   "outputs": [],
   "source": []
  }
 ]
}